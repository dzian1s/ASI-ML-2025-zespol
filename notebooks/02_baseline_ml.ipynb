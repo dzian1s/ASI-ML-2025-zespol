{
 "cells": [
  {
   "cell_type": "code",
   "execution_count": 4,
   "id": "initial_id",
   "metadata": {
    "collapsed": true,
    "ExecuteTime": {
     "end_time": "2025-10-16T18:34:48.166201Z",
     "start_time": "2025-10-16T18:34:48.160054Z"
    }
   },
   "outputs": [],
   "source": [
    "import pandas as pd"
   ]
  },
  {
   "cell_type": "code",
   "outputs": [
    {
     "data": {
      "text/plain": "     neighbourhood_group  neighbourhood  latitude  longitude  room_type  \\\n0                      1             45  40.64354  -73.97777          0   \n1                      2             42  40.76116  -73.99016          1   \n2                      2             29  40.70763  -74.01050          0   \n3                      2             25  40.79658  -73.93287          0   \n4                      1             83  40.70698  -73.95406          0   \n..                   ...            ...       ...        ...        ...   \n389                    2             15  40.75024  -74.00213          0   \n390                    2             42  40.75480  -73.99480          0   \n391                    1             12  40.69061  -73.90815          2   \n392                    2             78  40.77467  -73.95533          0   \n393                    1             60  40.67475  -73.96385          0   \n\n     price  minimum_nights  number_of_reviews  reviews_per_month  \\\n0       89               3                 62               0.71   \n1      120               2                 17               0.43   \n2      470               2                  5               1.88   \n3      199               2                 30               0.80   \n4      170               1                141               3.05   \n..     ...             ...                ...                ...   \n389    175               4                  3               1.11   \n390    175               1                 27               6.59   \n391     42               2                  5               0.67   \n392    133              30                 11               0.34   \n393    100               6                  5               0.07   \n\n     calculated_host_listings_count  availability_365  \n0                                 1               189  \n1                                 1                 0  \n2                               327               272  \n3                                 1                30  \n4                                 1                28  \n..                              ...               ...  \n389                               1                15  \n390                               2               133  \n391                               1                 0  \n392                               5               126  \n393                               1                 0  \n\n[394 rows x 11 columns]",
      "text/html": "<div>\n<style scoped>\n    .dataframe tbody tr th:only-of-type {\n        vertical-align: middle;\n    }\n\n    .dataframe tbody tr th {\n        vertical-align: top;\n    }\n\n    .dataframe thead th {\n        text-align: right;\n    }\n</style>\n<table border=\"1\" class=\"dataframe\">\n  <thead>\n    <tr style=\"text-align: right;\">\n      <th></th>\n      <th>neighbourhood_group</th>\n      <th>neighbourhood</th>\n      <th>latitude</th>\n      <th>longitude</th>\n      <th>room_type</th>\n      <th>price</th>\n      <th>minimum_nights</th>\n      <th>number_of_reviews</th>\n      <th>reviews_per_month</th>\n      <th>calculated_host_listings_count</th>\n      <th>availability_365</th>\n    </tr>\n  </thead>\n  <tbody>\n    <tr>\n      <th>0</th>\n      <td>1</td>\n      <td>45</td>\n      <td>40.64354</td>\n      <td>-73.97777</td>\n      <td>0</td>\n      <td>89</td>\n      <td>3</td>\n      <td>62</td>\n      <td>0.71</td>\n      <td>1</td>\n      <td>189</td>\n    </tr>\n    <tr>\n      <th>1</th>\n      <td>2</td>\n      <td>42</td>\n      <td>40.76116</td>\n      <td>-73.99016</td>\n      <td>1</td>\n      <td>120</td>\n      <td>2</td>\n      <td>17</td>\n      <td>0.43</td>\n      <td>1</td>\n      <td>0</td>\n    </tr>\n    <tr>\n      <th>2</th>\n      <td>2</td>\n      <td>29</td>\n      <td>40.70763</td>\n      <td>-74.01050</td>\n      <td>0</td>\n      <td>470</td>\n      <td>2</td>\n      <td>5</td>\n      <td>1.88</td>\n      <td>327</td>\n      <td>272</td>\n    </tr>\n    <tr>\n      <th>3</th>\n      <td>2</td>\n      <td>25</td>\n      <td>40.79658</td>\n      <td>-73.93287</td>\n      <td>0</td>\n      <td>199</td>\n      <td>2</td>\n      <td>30</td>\n      <td>0.80</td>\n      <td>1</td>\n      <td>30</td>\n    </tr>\n    <tr>\n      <th>4</th>\n      <td>1</td>\n      <td>83</td>\n      <td>40.70698</td>\n      <td>-73.95406</td>\n      <td>0</td>\n      <td>170</td>\n      <td>1</td>\n      <td>141</td>\n      <td>3.05</td>\n      <td>1</td>\n      <td>28</td>\n    </tr>\n    <tr>\n      <th>...</th>\n      <td>...</td>\n      <td>...</td>\n      <td>...</td>\n      <td>...</td>\n      <td>...</td>\n      <td>...</td>\n      <td>...</td>\n      <td>...</td>\n      <td>...</td>\n      <td>...</td>\n      <td>...</td>\n    </tr>\n    <tr>\n      <th>389</th>\n      <td>2</td>\n      <td>15</td>\n      <td>40.75024</td>\n      <td>-74.00213</td>\n      <td>0</td>\n      <td>175</td>\n      <td>4</td>\n      <td>3</td>\n      <td>1.11</td>\n      <td>1</td>\n      <td>15</td>\n    </tr>\n    <tr>\n      <th>390</th>\n      <td>2</td>\n      <td>42</td>\n      <td>40.75480</td>\n      <td>-73.99480</td>\n      <td>0</td>\n      <td>175</td>\n      <td>1</td>\n      <td>27</td>\n      <td>6.59</td>\n      <td>2</td>\n      <td>133</td>\n    </tr>\n    <tr>\n      <th>391</th>\n      <td>1</td>\n      <td>12</td>\n      <td>40.69061</td>\n      <td>-73.90815</td>\n      <td>2</td>\n      <td>42</td>\n      <td>2</td>\n      <td>5</td>\n      <td>0.67</td>\n      <td>1</td>\n      <td>0</td>\n    </tr>\n    <tr>\n      <th>392</th>\n      <td>2</td>\n      <td>78</td>\n      <td>40.77467</td>\n      <td>-73.95533</td>\n      <td>0</td>\n      <td>133</td>\n      <td>30</td>\n      <td>11</td>\n      <td>0.34</td>\n      <td>5</td>\n      <td>126</td>\n    </tr>\n    <tr>\n      <th>393</th>\n      <td>1</td>\n      <td>60</td>\n      <td>40.67475</td>\n      <td>-73.96385</td>\n      <td>0</td>\n      <td>100</td>\n      <td>6</td>\n      <td>5</td>\n      <td>0.07</td>\n      <td>1</td>\n      <td>0</td>\n    </tr>\n  </tbody>\n</table>\n<p>394 rows × 11 columns</p>\n</div>"
     },
     "execution_count": 5,
     "metadata": {},
     "output_type": "execute_result"
    }
   ],
   "source": [
    "data = pd.read_csv(\"../data/02_interim/airbnb_cleaned.csv\")\n",
    "data"
   ],
   "metadata": {
    "collapsed": false,
    "ExecuteTime": {
     "end_time": "2025-10-16T18:34:48.201991Z",
     "start_time": "2025-10-16T18:34:48.168400Z"
    }
   },
   "id": "cc9356f49649c999",
   "execution_count": 5
  },
  {
   "cell_type": "code",
   "outputs": [
    {
     "name": "stdout",
     "output_type": "stream",
     "text": [
      "mae: 61.742\n",
      "RMSE: 11932.858\n"
     ]
    }
   ],
   "source": [
    "from sklearn.model_selection import train_test_split\n",
    "from sklearn.ensemble import RandomForestRegressor\n",
    "from sklearn.metrics import mean_squared_error, mean_absolute_error\n",
    "\n",
    "X = data.drop(columns=[\"price\"])\n",
    "y = data[\"price\"]\n",
    "\n",
    "X_train, X_test, y_train, y_test = train_test_split(X, y, test_size=0.2, random_state=42)\n",
    "\n",
    "model = RandomForestRegressor(n_estimators=100, random_state=42)\n",
    "model.fit(X_train, y_train)\n",
    "\n",
    "y_pred = model.predict(X_test)\n",
    "\n",
    "mae = mean_absolute_error(y_test, y_pred)\n",
    "rmse = mean_squared_error(y_test, y_pred)\n",
    "\n",
    "print(f\"mae: {mae:.3f}\")\n",
    "print(f\"RMSE: {rmse:.3f}\")"
   ],
   "metadata": {
    "collapsed": false,
    "ExecuteTime": {
     "end_time": "2025-10-16T18:40:10.547864Z",
     "start_time": "2025-10-16T18:40:10.409813Z"
    }
   },
   "id": "a6edd4ce2559886c",
   "execution_count": 7
  },
  {
   "cell_type": "code",
   "outputs": [],
   "source": [],
   "metadata": {
    "collapsed": false
   },
   "id": "5f0ffb4729ede397"
  }
 ],
 "metadata": {
  "kernelspec": {
   "display_name": "Python 3",
   "language": "python",
   "name": "python3"
  },
  "language_info": {
   "codemirror_mode": {
    "name": "ipython",
    "version": 2
   },
   "file_extension": ".py",
   "mimetype": "text/x-python",
   "name": "python",
   "nbconvert_exporter": "python",
   "pygments_lexer": "ipython2",
   "version": "2.7.6"
  }
 },
 "nbformat": 4,
 "nbformat_minor": 5
}
